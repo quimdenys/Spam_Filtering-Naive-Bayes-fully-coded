{
 "cells": [
  {
   "cell_type": "code",
   "execution_count": 35,
   "metadata": {},
   "outputs": [],
   "source": [
    "import numpy as np\n",
    "import matplotlib.pyplot as plt\n",
    "import pandas as pd\n",
    "import string"
   ]
  },
  {
   "cell_type": "code",
   "execution_count": 36,
   "metadata": {},
   "outputs": [
    {
     "data": {
      "text/html": [
       "<div>\n",
       "<style scoped>\n",
       "    .dataframe tbody tr th:only-of-type {\n",
       "        vertical-align: middle;\n",
       "    }\n",
       "\n",
       "    .dataframe tbody tr th {\n",
       "        vertical-align: top;\n",
       "    }\n",
       "\n",
       "    .dataframe thead th {\n",
       "        text-align: right;\n",
       "    }\n",
       "</style>\n",
       "<table border=\"1\" class=\"dataframe\">\n",
       "  <thead>\n",
       "    <tr style=\"text-align: right;\">\n",
       "      <th></th>\n",
       "      <th>v1</th>\n",
       "      <th>v2</th>\n",
       "      <th>Unnamed: 2</th>\n",
       "      <th>Unnamed: 3</th>\n",
       "      <th>Unnamed: 4</th>\n",
       "    </tr>\n",
       "  </thead>\n",
       "  <tbody>\n",
       "    <tr>\n",
       "      <th>0</th>\n",
       "      <td>ham</td>\n",
       "      <td>Go until jurong point, crazy.. Available only ...</td>\n",
       "      <td>NaN</td>\n",
       "      <td>NaN</td>\n",
       "      <td>NaN</td>\n",
       "    </tr>\n",
       "    <tr>\n",
       "      <th>1</th>\n",
       "      <td>ham</td>\n",
       "      <td>Ok lar... Joking wif u oni...</td>\n",
       "      <td>NaN</td>\n",
       "      <td>NaN</td>\n",
       "      <td>NaN</td>\n",
       "    </tr>\n",
       "    <tr>\n",
       "      <th>2</th>\n",
       "      <td>spam</td>\n",
       "      <td>Free entry in 2 a wkly comp to win FA Cup fina...</td>\n",
       "      <td>NaN</td>\n",
       "      <td>NaN</td>\n",
       "      <td>NaN</td>\n",
       "    </tr>\n",
       "    <tr>\n",
       "      <th>3</th>\n",
       "      <td>ham</td>\n",
       "      <td>U dun say so early hor... U c already then say...</td>\n",
       "      <td>NaN</td>\n",
       "      <td>NaN</td>\n",
       "      <td>NaN</td>\n",
       "    </tr>\n",
       "    <tr>\n",
       "      <th>4</th>\n",
       "      <td>ham</td>\n",
       "      <td>Nah I don't think he goes to usf, he lives aro...</td>\n",
       "      <td>NaN</td>\n",
       "      <td>NaN</td>\n",
       "      <td>NaN</td>\n",
       "    </tr>\n",
       "  </tbody>\n",
       "</table>\n",
       "</div>"
      ],
      "text/plain": [
       "     v1                                                 v2 Unnamed: 2  \\\n",
       "0   ham  Go until jurong point, crazy.. Available only ...        NaN   \n",
       "1   ham                      Ok lar... Joking wif u oni...        NaN   \n",
       "2  spam  Free entry in 2 a wkly comp to win FA Cup fina...        NaN   \n",
       "3   ham  U dun say so early hor... U c already then say...        NaN   \n",
       "4   ham  Nah I don't think he goes to usf, he lives aro...        NaN   \n",
       "\n",
       "  Unnamed: 3 Unnamed: 4  \n",
       "0        NaN        NaN  \n",
       "1        NaN        NaN  \n",
       "2        NaN        NaN  \n",
       "3        NaN        NaN  \n",
       "4        NaN        NaN  "
      ]
     },
     "execution_count": 36,
     "metadata": {},
     "output_type": "execute_result"
    }
   ],
   "source": [
    "# Read Data\n",
    "\n",
    "#read dataset\n",
    "spam_df = pd.read_csv('spam.csv', encoding=\"ISO-8859-1\")\n",
    "spam_df.head()"
   ]
  },
  {
   "cell_type": "code",
   "execution_count": 37,
   "metadata": {},
   "outputs": [],
   "source": [
    "#subset and rename columns\n",
    "spam_df = spam_df[['v1', 'v2']]\n",
    "spam_df.rename(columns={'v1': 'spam', 'v2': 'text'}, inplace=True)\n",
    "\n",
    "#convert spam column to binary\n",
    "spam_df.spam = spam_df.spam.apply(lambda s: True if s=='spam' else False)\n",
    "\n",
    "#lowercase everything and remove punctuation\n",
    "\n",
    "spam_df.text = spam_df.text.apply(lambda t: t.lower())\n",
    "\n",
    "for punctuation in string.punctuation:\n",
    "    spam_df.text = spam_df.text.apply(lambda t: t.replace(punctuation, '')) \n",
    "    \n",
    "#spam_df.text = spam_df.text.apply(lambda t: t.lower().translate(str.maketrans('', '', string.punctuation)))\n",
    "\n",
    "#shuffle\n",
    "spam_df = spam_df.sample(frac=1)"
   ]
  },
  {
   "cell_type": "code",
   "execution_count": 38,
   "metadata": {},
   "outputs": [
    {
     "data": {
      "text/html": [
       "<div>\n",
       "<style scoped>\n",
       "    .dataframe tbody tr th:only-of-type {\n",
       "        vertical-align: middle;\n",
       "    }\n",
       "\n",
       "    .dataframe tbody tr th {\n",
       "        vertical-align: top;\n",
       "    }\n",
       "\n",
       "    .dataframe thead th {\n",
       "        text-align: right;\n",
       "    }\n",
       "</style>\n",
       "<table border=\"1\" class=\"dataframe\">\n",
       "  <thead>\n",
       "    <tr style=\"text-align: right;\">\n",
       "      <th></th>\n",
       "      <th>spam</th>\n",
       "      <th>text</th>\n",
       "    </tr>\n",
       "  </thead>\n",
       "  <tbody>\n",
       "    <tr>\n",
       "      <th>2183</th>\n",
       "      <td>False</td>\n",
       "      <td>chinatown got porridge claypot rice yam cake f...</td>\n",
       "    </tr>\n",
       "    <tr>\n",
       "      <th>2328</th>\n",
       "      <td>False</td>\n",
       "      <td>that day you asked about anand number why</td>\n",
       "    </tr>\n",
       "    <tr>\n",
       "      <th>3417</th>\n",
       "      <td>True</td>\n",
       "      <td>life has never been this much fun and great un...</td>\n",
       "    </tr>\n",
       "    <tr>\n",
       "      <th>5392</th>\n",
       "      <td>False</td>\n",
       "      <td>ooooooh i forgot to tell u i can get on yovill...</td>\n",
       "    </tr>\n",
       "    <tr>\n",
       "      <th>2283</th>\n",
       "      <td>False</td>\n",
       "      <td>i reach home safe n sound liao</td>\n",
       "    </tr>\n",
       "    <tr>\n",
       "      <th>...</th>\n",
       "      <td>...</td>\n",
       "      <td>...</td>\n",
       "    </tr>\n",
       "    <tr>\n",
       "      <th>1510</th>\n",
       "      <td>False</td>\n",
       "      <td>peteis this your phone still its jenny from co...</td>\n",
       "    </tr>\n",
       "    <tr>\n",
       "      <th>2230</th>\n",
       "      <td>False</td>\n",
       "      <td>hey thk we juz go accordin to wat we discussed...</td>\n",
       "    </tr>\n",
       "    <tr>\n",
       "      <th>3916</th>\n",
       "      <td>False</td>\n",
       "      <td>eh ur laptop got no stock lei he say mon muz c...</td>\n",
       "    </tr>\n",
       "    <tr>\n",
       "      <th>306</th>\n",
       "      <td>False</td>\n",
       "      <td>jos ask if u wana meet up</td>\n",
       "    </tr>\n",
       "    <tr>\n",
       "      <th>1942</th>\n",
       "      <td>False</td>\n",
       "      <td>kkwhy cant you come here and search job</td>\n",
       "    </tr>\n",
       "  </tbody>\n",
       "</table>\n",
       "<p>5572 rows × 2 columns</p>\n",
       "</div>"
      ],
      "text/plain": [
       "       spam                                               text\n",
       "2183  False  chinatown got porridge claypot rice yam cake f...\n",
       "2328  False          that day you asked about anand number why\n",
       "3417   True  life has never been this much fun and great un...\n",
       "5392  False  ooooooh i forgot to tell u i can get on yovill...\n",
       "2283  False                     i reach home safe n sound liao\n",
       "...     ...                                                ...\n",
       "1510  False  peteis this your phone still its jenny from co...\n",
       "2230  False  hey thk we juz go accordin to wat we discussed...\n",
       "3916  False  eh ur laptop got no stock lei he say mon muz c...\n",
       "306   False                          jos ask if u wana meet up\n",
       "1942  False            kkwhy cant you come here and search job\n",
       "\n",
       "[5572 rows x 2 columns]"
      ]
     },
     "execution_count": 38,
     "metadata": {},
     "output_type": "execute_result"
    }
   ],
   "source": [
    "spam_df"
   ]
  },
  {
   "cell_type": "code",
   "execution_count": 39,
   "metadata": {},
   "outputs": [
    {
     "name": "stdout",
     "output_type": "stream",
     "text": [
      "life has never been this much fun and great until you came in you made it truly special for me i wont forget you enjoy  one gbpsms\n",
      "-------\n",
      "upgrdcentre orange customer you may now claim your free camera phone upgrade for your loyalty call now on 0207 153 9153 offer ends 26th july tcs apply optout available\n",
      "-------\n",
      "from wwwapplausestorecom monthlysubscription50pmsg max6month tcsc web age16 2stop txt stop\n",
      "-------\n",
      "urgent call 09066649731from landline your complimentary 4 ibiza holiday or å£10000 cash await collection sae tcs po box 434 sk3 8wp 150ppm 18\n",
      "-------\n",
      "get 3 lions england tone reply lionm 4 mono or lionp 4 poly 4 more go 2 wwwringtonescouk the original n best tones 3gbp network operator rates apply\n",
      "-------\n"
     ]
    }
   ],
   "source": [
    "for t in spam_df[spam_df.spam == True].iloc[:5].text:\n",
    "    print(t)\n",
    "    print('-------')"
   ]
  },
  {
   "cell_type": "code",
   "execution_count": 40,
   "metadata": {},
   "outputs": [
    {
     "name": "stdout",
     "output_type": "stream",
     "text": [
      "chinatown got porridge claypot rice yam cake fishhead beehoon either we eat cheap den go cafe n tok or go nydc or somethin\n",
      "-------\n",
      "that day you asked about anand number why\n",
      "-------\n",
      "ooooooh i forgot to tell u i can get on yoville on my phone\n",
      "-------\n",
      "i reach home safe n sound liao\n",
      "-------\n",
      "hello hows you and how did saturday go i was just texting to see if youd decided to do anything tomo not that im trying to invite myself or anything\n",
      "-------\n"
     ]
    }
   ],
   "source": [
    "for t in spam_df[spam_df.spam == False].iloc[:5].text:\n",
    "    print(t)\n",
    "    print('-------')"
   ]
  },
  {
   "cell_type": "code",
   "execution_count": 41,
   "metadata": {},
   "outputs": [],
   "source": [
    "#get training set\n",
    "train_spam_df = spam_df.iloc[:int(len(spam_df)*0.7)]\n",
    "\n",
    "#get testing set\n",
    "test_spam_df = spam_df.iloc[int(len(spam_df)*0.7):]"
   ]
  },
  {
   "cell_type": "code",
   "execution_count": 43,
   "metadata": {},
   "outputs": [
    {
     "data": {
      "text/html": [
       "<div>\n",
       "<style scoped>\n",
       "    .dataframe tbody tr th:only-of-type {\n",
       "        vertical-align: middle;\n",
       "    }\n",
       "\n",
       "    .dataframe tbody tr th {\n",
       "        vertical-align: top;\n",
       "    }\n",
       "\n",
       "    .dataframe thead th {\n",
       "        text-align: right;\n",
       "    }\n",
       "</style>\n",
       "<table border=\"1\" class=\"dataframe\">\n",
       "  <thead>\n",
       "    <tr style=\"text-align: right;\">\n",
       "      <th></th>\n",
       "      <th>spam</th>\n",
       "      <th>text</th>\n",
       "    </tr>\n",
       "  </thead>\n",
       "  <tbody>\n",
       "    <tr>\n",
       "      <th>2183</th>\n",
       "      <td>False</td>\n",
       "      <td>chinatown got porridge claypot rice yam cake f...</td>\n",
       "    </tr>\n",
       "    <tr>\n",
       "      <th>2328</th>\n",
       "      <td>False</td>\n",
       "      <td>that day you asked about anand number why</td>\n",
       "    </tr>\n",
       "    <tr>\n",
       "      <th>3417</th>\n",
       "      <td>True</td>\n",
       "      <td>life has never been this much fun and great un...</td>\n",
       "    </tr>\n",
       "    <tr>\n",
       "      <th>5392</th>\n",
       "      <td>False</td>\n",
       "      <td>ooooooh i forgot to tell u i can get on yovill...</td>\n",
       "    </tr>\n",
       "    <tr>\n",
       "      <th>2283</th>\n",
       "      <td>False</td>\n",
       "      <td>i reach home safe n sound liao</td>\n",
       "    </tr>\n",
       "    <tr>\n",
       "      <th>...</th>\n",
       "      <td>...</td>\n",
       "      <td>...</td>\n",
       "    </tr>\n",
       "    <tr>\n",
       "      <th>3355</th>\n",
       "      <td>False</td>\n",
       "      <td>ok not a problem will get them a taxi c ing  t...</td>\n",
       "    </tr>\n",
       "    <tr>\n",
       "      <th>1573</th>\n",
       "      <td>True</td>\n",
       "      <td>sms auction  a brand new nokia 7250 is up 4 au...</td>\n",
       "    </tr>\n",
       "    <tr>\n",
       "      <th>1996</th>\n",
       "      <td>False</td>\n",
       "      <td>lol boo i was hoping for a laugh</td>\n",
       "    </tr>\n",
       "    <tr>\n",
       "      <th>1063</th>\n",
       "      <td>True</td>\n",
       "      <td>we have new local dates in your area  lots of ...</td>\n",
       "    </tr>\n",
       "    <tr>\n",
       "      <th>217</th>\n",
       "      <td>False</td>\n",
       "      <td>easy ahsen got selected means its good</td>\n",
       "    </tr>\n",
       "  </tbody>\n",
       "</table>\n",
       "<p>3900 rows × 2 columns</p>\n",
       "</div>"
      ],
      "text/plain": [
       "       spam                                               text\n",
       "2183  False  chinatown got porridge claypot rice yam cake f...\n",
       "2328  False          that day you asked about anand number why\n",
       "3417   True  life has never been this much fun and great un...\n",
       "5392  False  ooooooh i forgot to tell u i can get on yovill...\n",
       "2283  False                     i reach home safe n sound liao\n",
       "...     ...                                                ...\n",
       "3355  False  ok not a problem will get them a taxi c ing  t...\n",
       "1573   True  sms auction  a brand new nokia 7250 is up 4 au...\n",
       "1996  False                   lol boo i was hoping for a laugh\n",
       "1063   True  we have new local dates in your area  lots of ...\n",
       "217   False             easy ahsen got selected means its good\n",
       "\n",
       "[3900 rows x 2 columns]"
      ]
     },
     "execution_count": 43,
     "metadata": {},
     "output_type": "execute_result"
    }
   ],
   "source": [
    "train_spam_df"
   ]
  },
  {
   "cell_type": "code",
   "execution_count": 42,
   "metadata": {},
   "outputs": [
    {
     "name": "stdout",
     "output_type": "stream",
     "text": [
      "0.1341025641025641\n"
     ]
    }
   ],
   "source": [
    "FRAC_SPAM_TEXTS = train_spam_df.spam.mean()\n",
    "print(FRAC_SPAM_TEXTS)"
   ]
  },
  {
   "cell_type": "markdown",
   "metadata": {},
   "source": [
    "# Create Spam Bag of Words and Non-Spam Bag of Words"
   ]
  },
  {
   "cell_type": "code",
   "execution_count": 24,
   "metadata": {},
   "outputs": [
    {
     "data": {
      "text/plain": [
       "12152"
      ]
     },
     "execution_count": 24,
     "metadata": {},
     "output_type": "execute_result"
    }
   ],
   "source": [
    "spam_text = ' '.join(train_spam_df[train_spam_df.spam == True].text).split(' ')\n",
    "len(spam_text)"
   ]
  },
  {
   "cell_type": "code",
   "execution_count": 25,
   "metadata": {},
   "outputs": [
    {
     "data": {
      "text/plain": [
       "858"
      ]
     },
     "execution_count": 25,
     "metadata": {},
     "output_type": "execute_result"
    }
   ],
   "source": [
    "#get all words from spam and non-spam datasets\n",
    "train_spam_words = ' '.join(train_spam_df[train_spam_df.spam == True].text).split(' ')\n",
    "train_non_spam_words = ' '.join(train_spam_df[train_spam_df.spam == False].text).split(' ')\n",
    "\n",
    "common_words = set(train_spam_words).intersection(set(train_non_spam_words))\n",
    "len(common_words)"
   ]
  },
  {
   "cell_type": "code",
   "execution_count": 26,
   "metadata": {},
   "outputs": [],
   "source": [
    "train_spam_bow = dict()\n",
    "for w in common_words:\n",
    "    train_spam_bow[w] = train_spam_words.count(w) / len(train_spam_words)"
   ]
  },
  {
   "cell_type": "code",
   "execution_count": 27,
   "metadata": {},
   "outputs": [],
   "source": [
    "train_non_spam_bow = dict()\n",
    "for w in common_words:\n",
    "    train_non_spam_bow[w] = train_non_spam_words.count(w) / len(train_non_spam_words)"
   ]
  },
  {
   "cell_type": "markdown",
   "metadata": {},
   "source": [
    "# Predict on Test Set"
   ]
  },
  {
   "cell_type": "markdown",
   "metadata": {},
   "source": [
    "### $ P(\\text{SPAM} | \\text{\"urgent please call this number\"}) $\n",
    "### $\\propto P(\\text{\"urgent please call this number\"} | \\text{SPAM}) \\times P(\\text{SPAM}) $\n",
    "### $= P(\\text{\"urgent\"} | \\text{SPAM}) \\times P(\\text{\"please\"} | \\text{SPAM}) \\times \\dots \\times P(\\text{SPAM})$"
   ]
  },
  {
   "cell_type": "markdown",
   "metadata": {},
   "source": [
    "### Due to numerical issues, equivalently  compute:\n",
    "\n",
    "### $log(P(\\text{\"urgent\"} | \\text{SPAM}) \\times P(\\text{\"please\"} | \\text{SPAM}) \\times \\dots \\times P(\\text{SPAM}))$\n",
    "### $ = log(P(\\text{\"urgent\"} | \\text{SPAM})) + log(P(\\text{\"please\"} | \\text{SPAM})) + \\dots + log(P(\\text{SPAM}))$"
   ]
  },
  {
   "cell_type": "code",
   "execution_count": 44,
   "metadata": {},
   "outputs": [],
   "source": [
    "def predict_text(t, verbose=False):\n",
    "    #if some word doesnt appear in either spam or non-spam BOW, disregard it\n",
    "    valid_words = [w for w in t if w in train_spam_bow]\n",
    "    \n",
    "    #get the probabilities of each valid word showing up in spam and non-spam BOW\n",
    "    spam_probs = [train_spam_bow[w] for w in valid_words]\n",
    "    non_spam_probs = [train_non_spam_bow[w] for w in valid_words]\n",
    "    \n",
    "    #print probs if requested\n",
    "    if verbose:\n",
    "        data_df = pd.DataFrame()\n",
    "        data_df['word'] = valid_words\n",
    "        data_df['spam_prob'] = spam_probs\n",
    "        data_df['non_spam_prob'] = non_spam_probs\n",
    "        data_df['ratio'] = [s/n if n > 0 else np.inf for s,n in zip(spam_probs, non_spam_probs)]\n",
    "        print(data_df)\n",
    "     \n",
    "    #calculate spam score as sum of logs for all probabilities\n",
    "    spam_score = sum([np.log(p) for p in spam_probs]) + np.log(FRAC_SPAM_TEXTS)\n",
    "    \n",
    "    #calculate non-spam score as sum of logs for all probabilities\n",
    "    non_spam_score = sum([np.log(p) for p in non_spam_probs]) + np.log(1-FRAC_SPAM_TEXTS)\n",
    "    \n",
    "    #if verbose, report the two scores\n",
    "    if verbose:\n",
    "        print('Spam Score: %s'%spam_score)\n",
    "        print('Non-Spam Score: %s'%non_spam_score)\n",
    "   \n",
    "    #if spam score is higher, mark this as spam\n",
    "    return (spam_score >= non_spam_score)"
   ]
  },
  {
   "cell_type": "code",
   "execution_count": 45,
   "metadata": {},
   "outputs": [
    {
     "name": "stdout",
     "output_type": "stream",
     "text": [
      "     word  spam_prob  non_spam_prob       ratio\n",
      "0  urgent   0.003621       0.000020  176.847268\n",
      "1    call   0.019256       0.003337    5.769975\n",
      "2    this   0.004855       0.003747    1.295826\n",
      "3  number   0.001399       0.001003    1.394436\n",
      "Spam Score: -23.479885007917353\n",
      "Non-Spam Score: -29.134315669682003\n"
     ]
    },
    {
     "data": {
      "text/plain": [
       "True"
      ]
     },
     "execution_count": 45,
     "metadata": {},
     "output_type": "execute_result"
    }
   ],
   "source": [
    "predict_text('urgent call this number'.split(), verbose=True)"
   ]
  },
  {
   "cell_type": "code",
   "execution_count": 46,
   "metadata": {},
   "outputs": [
    {
     "name": "stdout",
     "output_type": "stream",
     "text": [
      "      word  spam_prob  non_spam_prob     ratio\n",
      "0      hey   0.000411       0.001433  0.287090\n",
      "1       do   0.000987       0.005733  0.172254\n",
      "2      you   0.014730       0.027517  0.535303\n",
      "3     want   0.001481       0.002539  0.583440\n",
      "4       to   0.038759       0.022788  1.700871\n",
      "5       go   0.001646       0.003706  0.444117\n",
      "6        a   0.022136       0.015130  1.463031\n",
      "7    movie   0.000165       0.000348  0.472854\n",
      "8  tonight   0.000165       0.000839  0.196061\n",
      "Spam Score: -58.35269353228213\n",
      "Non-Spam Score: -50.03873506241979\n"
     ]
    },
    {
     "data": {
      "text/plain": [
       "False"
      ]
     },
     "execution_count": 46,
     "metadata": {},
     "output_type": "execute_result"
    }
   ],
   "source": [
    "predict_text('hey do you want to go a movie tonight'.split(), verbose=True)"
   ]
  },
  {
   "cell_type": "code",
   "execution_count": 47,
   "metadata": {},
   "outputs": [
    {
     "name": "stdout",
     "output_type": "stream",
     "text": [
      "        word  spam_prob  non_spam_prob      ratio\n",
      "0      offer   0.001481       0.000102  14.469322\n",
      "1        for   0.010780       0.007289   1.478996\n",
      "2  unlimited   0.000576       0.000082   7.033698\n",
      "3      money   0.000247       0.000717   0.344508\n",
      "4       call   0.019256       0.003337   5.769975\n",
      "5        now   0.010286       0.004218   2.438869\n",
      "Spam Score: -37.34691826222573\n",
      "Non-Spam Score: -42.07442664080335\n"
     ]
    },
    {
     "data": {
      "text/plain": [
       "True"
      ]
     },
     "execution_count": 47,
     "metadata": {},
     "output_type": "execute_result"
    }
   ],
   "source": [
    "predict_text('offer for unlimited money call now'.split(), verbose=True)"
   ]
  },
  {
   "cell_type": "code",
   "execution_count": 48,
   "metadata": {},
   "outputs": [
    {
     "name": "stdout",
     "output_type": "stream",
     "text": [
      "  word  spam_prob  non_spam_prob     ratio\n",
      "0  are   0.003703       0.006019  0.615192\n",
      "1  you   0.014730       0.027517  0.535303\n",
      "2   at   0.001564       0.005344  0.292590\n",
      "3  yet   0.000165       0.000594  0.277190\n",
      "Spam Score: -26.99851208981779\n",
      "Non-Spam Score: -21.51057079570987\n"
     ]
    },
    {
     "data": {
      "text/plain": [
       "False"
      ]
     },
     "execution_count": 48,
     "metadata": {},
     "output_type": "execute_result"
    }
   ],
   "source": [
    "predict_text('are you at class yet'.split(), verbose=True)"
   ]
  },
  {
   "cell_type": "code",
   "execution_count": 49,
   "metadata": {},
   "outputs": [
    {
     "data": {
      "text/html": [
       "<div>\n",
       "<style scoped>\n",
       "    .dataframe tbody tr th:only-of-type {\n",
       "        vertical-align: middle;\n",
       "    }\n",
       "\n",
       "    .dataframe tbody tr th {\n",
       "        vertical-align: top;\n",
       "    }\n",
       "\n",
       "    .dataframe thead th {\n",
       "        text-align: right;\n",
       "    }\n",
       "</style>\n",
       "<table border=\"1\" class=\"dataframe\">\n",
       "  <thead>\n",
       "    <tr style=\"text-align: right;\">\n",
       "      <th></th>\n",
       "      <th>spam</th>\n",
       "      <th>text</th>\n",
       "    </tr>\n",
       "  </thead>\n",
       "  <tbody>\n",
       "    <tr>\n",
       "      <th>2221</th>\n",
       "      <td>False</td>\n",
       "      <td>i notice you like looking in the shit mirror y...</td>\n",
       "    </tr>\n",
       "    <tr>\n",
       "      <th>3065</th>\n",
       "      <td>True</td>\n",
       "      <td>get a brand new mobile phone by being an agent...</td>\n",
       "    </tr>\n",
       "    <tr>\n",
       "      <th>5070</th>\n",
       "      <td>False</td>\n",
       "      <td>as in different styles</td>\n",
       "    </tr>\n",
       "    <tr>\n",
       "      <th>4708</th>\n",
       "      <td>False</td>\n",
       "      <td>haha awesome i might need to take you up on th...</td>\n",
       "    </tr>\n",
       "    <tr>\n",
       "      <th>4539</th>\n",
       "      <td>False</td>\n",
       "      <td>urgh coach hot smells of chip fat thanks again...</td>\n",
       "    </tr>\n",
       "    <tr>\n",
       "      <th>...</th>\n",
       "      <td>...</td>\n",
       "      <td>...</td>\n",
       "    </tr>\n",
       "    <tr>\n",
       "      <th>1510</th>\n",
       "      <td>False</td>\n",
       "      <td>peteis this your phone still its jenny from co...</td>\n",
       "    </tr>\n",
       "    <tr>\n",
       "      <th>2230</th>\n",
       "      <td>False</td>\n",
       "      <td>hey thk we juz go accordin to wat we discussed...</td>\n",
       "    </tr>\n",
       "    <tr>\n",
       "      <th>3916</th>\n",
       "      <td>False</td>\n",
       "      <td>eh ur laptop got no stock lei he say mon muz c...</td>\n",
       "    </tr>\n",
       "    <tr>\n",
       "      <th>306</th>\n",
       "      <td>False</td>\n",
       "      <td>jos ask if u wana meet up</td>\n",
       "    </tr>\n",
       "    <tr>\n",
       "      <th>1942</th>\n",
       "      <td>False</td>\n",
       "      <td>kkwhy cant you come here and search job</td>\n",
       "    </tr>\n",
       "  </tbody>\n",
       "</table>\n",
       "<p>1672 rows × 2 columns</p>\n",
       "</div>"
      ],
      "text/plain": [
       "       spam                                               text\n",
       "2221  False  i notice you like looking in the shit mirror y...\n",
       "3065   True  get a brand new mobile phone by being an agent...\n",
       "5070  False                             as in different styles\n",
       "4708  False  haha awesome i might need to take you up on th...\n",
       "4539  False  urgh coach hot smells of chip fat thanks again...\n",
       "...     ...                                                ...\n",
       "1510  False  peteis this your phone still its jenny from co...\n",
       "2230  False  hey thk we juz go accordin to wat we discussed...\n",
       "3916  False  eh ur laptop got no stock lei he say mon muz c...\n",
       "306   False                          jos ask if u wana meet up\n",
       "1942  False            kkwhy cant you come here and search job\n",
       "\n",
       "[1672 rows x 2 columns]"
      ]
     },
     "execution_count": 49,
     "metadata": {},
     "output_type": "execute_result"
    }
   ],
   "source": [
    "test_spam_df"
   ]
  },
  {
   "cell_type": "code",
   "execution_count": 51,
   "metadata": {},
   "outputs": [
    {
     "data": {
      "text/plain": [
       "2221    False\n",
       "3065     True\n",
       "5070    False\n",
       "4708    False\n",
       "4539     True\n",
       "        ...  \n",
       "1510    False\n",
       "2230    False\n",
       "3916    False\n",
       "306     False\n",
       "1942    False\n",
       "Name: text, Length: 1672, dtype: bool"
      ]
     },
     "execution_count": 51,
     "metadata": {},
     "output_type": "execute_result"
    }
   ],
   "source": [
    "predictions = test_spam_df.text.apply(lambda t: predict_text(t.split()))\n",
    "predictions"
   ]
  },
  {
   "cell_type": "markdown",
   "metadata": {},
   "source": [
    "# Metric 1: Fraction Spam Correctly Detected (True positive rate / Recall) "
   ]
  },
  {
   "cell_type": "code",
   "execution_count": 62,
   "metadata": {},
   "outputs": [
    {
     "data": {
      "text/plain": [
       "203"
      ]
     },
     "execution_count": 62,
     "metadata": {},
     "output_type": "execute_result"
    }
   ],
   "source": [
    "np.sum((predictions == True) & (test_spam_df.spam == True))"
   ]
  },
  {
   "cell_type": "code",
   "execution_count": 66,
   "metadata": {},
   "outputs": [
    {
     "data": {
      "text/plain": [
       "224"
      ]
     },
     "execution_count": 66,
     "metadata": {},
     "output_type": "execute_result"
    }
   ],
   "source": [
    " np.sum(test_spam_df.spam == True)"
   ]
  },
  {
   "cell_type": "code",
   "execution_count": 56,
   "metadata": {},
   "outputs": [
    {
     "name": "stdout",
     "output_type": "stream",
     "text": [
      "Fraction Spam Correctly Detected: 0.90625\n"
     ]
    }
   ],
   "source": [
    "frac_spam_messages_correctly_detected = np.sum((predictions == True) & (test_spam_df.spam == True)) / np.sum(test_spam_df.spam == True)\n",
    "print('Fraction Spam Correctly Detected: %s'%frac_spam_messages_correctly_detected)"
   ]
  },
  {
   "cell_type": "markdown",
   "metadata": {},
   "source": [
    "### Alternative code to calculate Fraction Spam Correctly Detected"
   ]
  },
  {
   "cell_type": "code",
   "execution_count": 52,
   "metadata": {},
   "outputs": [
    {
     "data": {
      "text/plain": [
       "2221    False\n",
       "3065     True\n",
       "5070    False\n",
       "4708    False\n",
       "4539     True\n",
       "        ...  \n",
       "1510    False\n",
       "2230    False\n",
       "3916    False\n",
       "306     False\n",
       "1942    False\n",
       "Name: text, Length: 1672, dtype: bool"
      ]
     },
     "execution_count": 52,
     "metadata": {},
     "output_type": "execute_result"
    }
   ],
   "source": [
    "pred_true = (predictions == True)\n",
    "pred_true"
   ]
  },
  {
   "cell_type": "code",
   "execution_count": 54,
   "metadata": {},
   "outputs": [
    {
     "data": {
      "text/plain": [
       "2221    False\n",
       "3065     True\n",
       "5070    False\n",
       "4708    False\n",
       "4539    False\n",
       "        ...  \n",
       "1510    False\n",
       "2230    False\n",
       "3916    False\n",
       "306     False\n",
       "1942    False\n",
       "Length: 1672, dtype: bool"
      ]
     },
     "execution_count": 54,
     "metadata": {},
     "output_type": "execute_result"
    }
   ],
   "source": [
    "test_spam_true = (test_spam_df.spam == True)\n",
    "test_spam_true\n",
    "combined_pred_test = np.logical_and(pred_true, test_spam_true)\n",
    "combined_pred_test"
   ]
  },
  {
   "cell_type": "code",
   "execution_count": 55,
   "metadata": {},
   "outputs": [
    {
     "data": {
      "text/plain": [
       "203"
      ]
     },
     "execution_count": 55,
     "metadata": {},
     "output_type": "execute_result"
    }
   ],
   "source": [
    "np.sum(combined_pred_test)"
   ]
  },
  {
   "cell_type": "code",
   "execution_count": 56,
   "metadata": {},
   "outputs": [
    {
     "name": "stdout",
     "output_type": "stream",
     "text": [
      "Fraction Spam Correctly Detected: 0.8844444444444445\n"
     ]
    }
   ],
   "source": [
    "frac_spam_messages_correctly_detected_2 = np.sum(np.logical_and(predictions, test_spam_df.spam)) / np.sum(test_spam_df.spam == True)\n",
    "print('Fraction Spam Correctly Detected: %s'%frac_spam_messages_correctly_detected_2)"
   ]
  },
  {
   "cell_type": "markdown",
   "metadata": {},
   "source": [
    "# Metric 2: Fraction of valid messages sent to spam (False positive rate)"
   ]
  },
  {
   "cell_type": "code",
   "execution_count": 61,
   "metadata": {},
   "outputs": [
    {
     "name": "stdout",
     "output_type": "stream",
     "text": [
      "Fraction Valid Messages Sent to Spam: 0.020027624309392266\n"
     ]
    }
   ],
   "source": [
    "frac_valid_sent_to_spam = np.sum((predictions == True) & (test_spam_df.spam == False)) / np.sum(test_spam_df.spam == False)\n",
    "print('Fraction Valid Messages Sent to Spam: %s'%frac_valid_sent_to_spam)"
   ]
  },
  {
   "cell_type": "code",
   "execution_count": null,
   "metadata": {},
   "outputs": [],
   "source": []
  }
 ],
 "metadata": {
  "kernelspec": {
   "display_name": "Python 3 (ipykernel)",
   "language": "python",
   "name": "python3"
  },
  "language_info": {
   "codemirror_mode": {
    "name": "ipython",
    "version": 3
   },
   "file_extension": ".py",
   "mimetype": "text/x-python",
   "name": "python",
   "nbconvert_exporter": "python",
   "pygments_lexer": "ipython3",
   "version": "3.8.12"
  },
  "toc": {
   "base_numbering": 1,
   "nav_menu": {},
   "number_sections": true,
   "sideBar": true,
   "skip_h1_title": false,
   "title_cell": "Table of Contents",
   "title_sidebar": "Contents",
   "toc_cell": false,
   "toc_position": {},
   "toc_section_display": true,
   "toc_window_display": false
  }
 },
 "nbformat": 4,
 "nbformat_minor": 4
}
