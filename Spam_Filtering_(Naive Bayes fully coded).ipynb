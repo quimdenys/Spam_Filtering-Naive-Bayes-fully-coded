{
 "cells": [
  {
   "cell_type": "code",
   "execution_count": 1,
   "metadata": {},
   "outputs": [],
   "source": [
    "import numpy as np\n",
    "import matplotlib.pyplot as plt\n",
    "import pandas as pd\n",
    "import string"
   ]
  },
  {
   "cell_type": "code",
   "execution_count": 2,
   "metadata": {},
   "outputs": [
    {
     "data": {
      "text/html": [
       "<div>\n",
       "<style scoped>\n",
       "    .dataframe tbody tr th:only-of-type {\n",
       "        vertical-align: middle;\n",
       "    }\n",
       "\n",
       "    .dataframe tbody tr th {\n",
       "        vertical-align: top;\n",
       "    }\n",
       "\n",
       "    .dataframe thead th {\n",
       "        text-align: right;\n",
       "    }\n",
       "</style>\n",
       "<table border=\"1\" class=\"dataframe\">\n",
       "  <thead>\n",
       "    <tr style=\"text-align: right;\">\n",
       "      <th></th>\n",
       "      <th>v1</th>\n",
       "      <th>v2</th>\n",
       "      <th>Unnamed: 2</th>\n",
       "      <th>Unnamed: 3</th>\n",
       "      <th>Unnamed: 4</th>\n",
       "    </tr>\n",
       "  </thead>\n",
       "  <tbody>\n",
       "    <tr>\n",
       "      <th>0</th>\n",
       "      <td>ham</td>\n",
       "      <td>Go until jurong point, crazy.. Available only ...</td>\n",
       "      <td>NaN</td>\n",
       "      <td>NaN</td>\n",
       "      <td>NaN</td>\n",
       "    </tr>\n",
       "    <tr>\n",
       "      <th>1</th>\n",
       "      <td>ham</td>\n",
       "      <td>Ok lar... Joking wif u oni...</td>\n",
       "      <td>NaN</td>\n",
       "      <td>NaN</td>\n",
       "      <td>NaN</td>\n",
       "    </tr>\n",
       "    <tr>\n",
       "      <th>2</th>\n",
       "      <td>spam</td>\n",
       "      <td>Free entry in 2 a wkly comp to win FA Cup fina...</td>\n",
       "      <td>NaN</td>\n",
       "      <td>NaN</td>\n",
       "      <td>NaN</td>\n",
       "    </tr>\n",
       "    <tr>\n",
       "      <th>3</th>\n",
       "      <td>ham</td>\n",
       "      <td>U dun say so early hor... U c already then say...</td>\n",
       "      <td>NaN</td>\n",
       "      <td>NaN</td>\n",
       "      <td>NaN</td>\n",
       "    </tr>\n",
       "    <tr>\n",
       "      <th>4</th>\n",
       "      <td>ham</td>\n",
       "      <td>Nah I don't think he goes to usf, he lives aro...</td>\n",
       "      <td>NaN</td>\n",
       "      <td>NaN</td>\n",
       "      <td>NaN</td>\n",
       "    </tr>\n",
       "  </tbody>\n",
       "</table>\n",
       "</div>"
      ],
      "text/plain": [
       "     v1                                                 v2 Unnamed: 2  \\\n",
       "0   ham  Go until jurong point, crazy.. Available only ...        NaN   \n",
       "1   ham                      Ok lar... Joking wif u oni...        NaN   \n",
       "2  spam  Free entry in 2 a wkly comp to win FA Cup fina...        NaN   \n",
       "3   ham  U dun say so early hor... U c already then say...        NaN   \n",
       "4   ham  Nah I don't think he goes to usf, he lives aro...        NaN   \n",
       "\n",
       "  Unnamed: 3 Unnamed: 4  \n",
       "0        NaN        NaN  \n",
       "1        NaN        NaN  \n",
       "2        NaN        NaN  \n",
       "3        NaN        NaN  \n",
       "4        NaN        NaN  "
      ]
     },
     "execution_count": 2,
     "metadata": {},
     "output_type": "execute_result"
    }
   ],
   "source": [
    "#Read dataset\n",
    "spam_df = pd.read_csv('spam.csv', encoding=\"ISO-8859-1\")\n",
    "spam_df.head()"
   ]
  },
  {
   "cell_type": "code",
   "execution_count": 3,
   "metadata": {},
   "outputs": [],
   "source": [
    "#subset and rename columns\n",
    "spam_df = spam_df[['v1', 'v2']]\n",
    "spam_df.rename(columns={'v1': 'spam', 'v2': 'text'}, inplace=True)\n",
    "\n",
    "#convert spam column to binary\n",
    "spam_df.spam = spam_df.spam.apply(lambda s: True if s=='spam' else False)\n",
    "\n",
    "#lowercase everything and remove punctuation\n",
    "\n",
    "spam_df.text = spam_df.text.apply(lambda t: t.lower())\n",
    "\n",
    "for punctuation in string.punctuation:\n",
    "    spam_df.text = spam_df.text.apply(lambda t: t.replace(punctuation, '')) \n",
    "\n",
    "\n",
    "#shuffle\n",
    "spam_df = spam_df.sample(frac=1)"
   ]
  },
  {
   "cell_type": "code",
   "execution_count": 4,
   "metadata": {},
   "outputs": [
    {
     "data": {
      "text/html": [
       "<div>\n",
       "<style scoped>\n",
       "    .dataframe tbody tr th:only-of-type {\n",
       "        vertical-align: middle;\n",
       "    }\n",
       "\n",
       "    .dataframe tbody tr th {\n",
       "        vertical-align: top;\n",
       "    }\n",
       "\n",
       "    .dataframe thead th {\n",
       "        text-align: right;\n",
       "    }\n",
       "</style>\n",
       "<table border=\"1\" class=\"dataframe\">\n",
       "  <thead>\n",
       "    <tr style=\"text-align: right;\">\n",
       "      <th></th>\n",
       "      <th>spam</th>\n",
       "      <th>text</th>\n",
       "    </tr>\n",
       "  </thead>\n",
       "  <tbody>\n",
       "    <tr>\n",
       "      <th>4355</th>\n",
       "      <td>False</td>\n",
       "      <td>great so should i send you my account number</td>\n",
       "    </tr>\n",
       "    <tr>\n",
       "      <th>3838</th>\n",
       "      <td>False</td>\n",
       "      <td>erm û ill pick you up at about 645pm thatll g...</td>\n",
       "    </tr>\n",
       "    <tr>\n",
       "      <th>4049</th>\n",
       "      <td>False</td>\n",
       "      <td>ok ok take care i can understand</td>\n",
       "    </tr>\n",
       "    <tr>\n",
       "      <th>4320</th>\n",
       "      <td>False</td>\n",
       "      <td>k jason says hes gonna be around so ill be up ...</td>\n",
       "    </tr>\n",
       "    <tr>\n",
       "      <th>3660</th>\n",
       "      <td>False</td>\n",
       "      <td>well then you have a great weekend</td>\n",
       "    </tr>\n",
       "    <tr>\n",
       "      <th>...</th>\n",
       "      <td>...</td>\n",
       "      <td>...</td>\n",
       "    </tr>\n",
       "    <tr>\n",
       "      <th>2434</th>\n",
       "      <td>False</td>\n",
       "      <td>uncle boye i need movies oh guide me plus you ...</td>\n",
       "    </tr>\n",
       "    <tr>\n",
       "      <th>3356</th>\n",
       "      <td>False</td>\n",
       "      <td>brainless baby dolld vehicle sariyag drive mad...</td>\n",
       "    </tr>\n",
       "    <tr>\n",
       "      <th>1564</th>\n",
       "      <td>False</td>\n",
       "      <td>tmrw im finishing 9 doors</td>\n",
       "    </tr>\n",
       "    <tr>\n",
       "      <th>3974</th>\n",
       "      <td>False</td>\n",
       "      <td>do u think that any girl will propose u today ...</td>\n",
       "    </tr>\n",
       "    <tr>\n",
       "      <th>4471</th>\n",
       "      <td>True</td>\n",
       "      <td>3 you have received your mobile content enjoy</td>\n",
       "    </tr>\n",
       "  </tbody>\n",
       "</table>\n",
       "<p>5572 rows × 2 columns</p>\n",
       "</div>"
      ],
      "text/plain": [
       "       spam                                               text\n",
       "4355  False       great so should i send you my account number\n",
       "3838  False  erm û ill pick you up at about 645pm thatll g...\n",
       "4049  False                   ok ok take care i can understand\n",
       "4320  False  k jason says hes gonna be around so ill be up ...\n",
       "3660  False                 well then you have a great weekend\n",
       "...     ...                                                ...\n",
       "2434  False  uncle boye i need movies oh guide me plus you ...\n",
       "3356  False  brainless baby dolld vehicle sariyag drive mad...\n",
       "1564  False                          tmrw im finishing 9 doors\n",
       "3974  False  do u think that any girl will propose u today ...\n",
       "4471   True      3 you have received your mobile content enjoy\n",
       "\n",
       "[5572 rows x 2 columns]"
      ]
     },
     "execution_count": 4,
     "metadata": {},
     "output_type": "execute_result"
    }
   ],
   "source": [
    "spam_df"
   ]
  },
  {
   "cell_type": "code",
   "execution_count": 5,
   "metadata": {},
   "outputs": [
    {
     "name": "stdout",
     "output_type": "stream",
     "text": [
      "burger king  wanna play footy at a top stadium get 2 burger king before 1st sept and go large or super with cocacola and walk out a winner\n",
      "-------\n",
      "back 2 work 2morro half term over can u c me 2nite 4 some sexy passion b4 i have 2 go back chat now 09099726481 luv dena calls å£1minmobsmorelkpobox177hp51fl\n",
      "-------\n",
      "jamster to get your free wallpaper text heart to 88888 now tc apply 16 only need help call 08701213186\n",
      "-------\n",
      "fancy a shag i dointerested sextextukcom txt xxuk suzy to 69876 txts cost 150 per msg tncs on website x\n",
      "-------\n",
      "u 447801259231 have a secret admirer who is looking 2 make contact with ufind out who they rreveal who thinks ur so specialcall on 09058094597\n",
      "-------\n"
     ]
    }
   ],
   "source": [
    "for t in spam_df[spam_df.spam == True].iloc[:5].text:\n",
    "    print(t)\n",
    "    print('-------')"
   ]
  },
  {
   "cell_type": "code",
   "execution_count": 6,
   "metadata": {},
   "outputs": [
    {
     "name": "stdout",
     "output_type": "stream",
     "text": [
      "great so should i send you my account number\n",
      "-------\n",
      "erm û ill pick you up at about 645pm thatll give enough time to get there park and that\n",
      "-------\n",
      "ok ok take care i can understand\n",
      "-------\n",
      "k jason says hes gonna be around so ill be up there around  ltgt\n",
      "-------\n",
      "well then you have a great weekend\n",
      "-------\n"
     ]
    }
   ],
   "source": [
    "for t in spam_df[spam_df.spam == False].iloc[:5].text:\n",
    "    print(t)\n",
    "    print('-------')"
   ]
  },
  {
   "cell_type": "code",
   "execution_count": 7,
   "metadata": {},
   "outputs": [],
   "source": [
    "#get training set\n",
    "train_spam_df = spam_df.iloc[:int(len(spam_df)*0.7)]\n",
    "\n",
    "#get testing set\n",
    "test_spam_df = spam_df.iloc[int(len(spam_df)*0.7):]"
   ]
  },
  {
   "cell_type": "code",
   "execution_count": 8,
   "metadata": {},
   "outputs": [
    {
     "data": {
      "text/html": [
       "<div>\n",
       "<style scoped>\n",
       "    .dataframe tbody tr th:only-of-type {\n",
       "        vertical-align: middle;\n",
       "    }\n",
       "\n",
       "    .dataframe tbody tr th {\n",
       "        vertical-align: top;\n",
       "    }\n",
       "\n",
       "    .dataframe thead th {\n",
       "        text-align: right;\n",
       "    }\n",
       "</style>\n",
       "<table border=\"1\" class=\"dataframe\">\n",
       "  <thead>\n",
       "    <tr style=\"text-align: right;\">\n",
       "      <th></th>\n",
       "      <th>spam</th>\n",
       "      <th>text</th>\n",
       "    </tr>\n",
       "  </thead>\n",
       "  <tbody>\n",
       "    <tr>\n",
       "      <th>4355</th>\n",
       "      <td>False</td>\n",
       "      <td>great so should i send you my account number</td>\n",
       "    </tr>\n",
       "    <tr>\n",
       "      <th>3838</th>\n",
       "      <td>False</td>\n",
       "      <td>erm û ill pick you up at about 645pm thatll g...</td>\n",
       "    </tr>\n",
       "    <tr>\n",
       "      <th>4049</th>\n",
       "      <td>False</td>\n",
       "      <td>ok ok take care i can understand</td>\n",
       "    </tr>\n",
       "    <tr>\n",
       "      <th>4320</th>\n",
       "      <td>False</td>\n",
       "      <td>k jason says hes gonna be around so ill be up ...</td>\n",
       "    </tr>\n",
       "    <tr>\n",
       "      <th>3660</th>\n",
       "      <td>False</td>\n",
       "      <td>well then you have a great weekend</td>\n",
       "    </tr>\n",
       "    <tr>\n",
       "      <th>...</th>\n",
       "      <td>...</td>\n",
       "      <td>...</td>\n",
       "    </tr>\n",
       "    <tr>\n",
       "      <th>3045</th>\n",
       "      <td>False</td>\n",
       "      <td>so hows the weather over there</td>\n",
       "    </tr>\n",
       "    <tr>\n",
       "      <th>51</th>\n",
       "      <td>False</td>\n",
       "      <td>a gram usually runs like  ltgt  a half eighth ...</td>\n",
       "    </tr>\n",
       "    <tr>\n",
       "      <th>4170</th>\n",
       "      <td>False</td>\n",
       "      <td>pls whats the full name of jokes school cos fe...</td>\n",
       "    </tr>\n",
       "    <tr>\n",
       "      <th>988</th>\n",
       "      <td>False</td>\n",
       "      <td>yun ahthe ubi one say if ì wan call by tomorro...</td>\n",
       "    </tr>\n",
       "    <tr>\n",
       "      <th>3490</th>\n",
       "      <td>False</td>\n",
       "      <td>ok</td>\n",
       "    </tr>\n",
       "  </tbody>\n",
       "</table>\n",
       "<p>3900 rows × 2 columns</p>\n",
       "</div>"
      ],
      "text/plain": [
       "       spam                                               text\n",
       "4355  False       great so should i send you my account number\n",
       "3838  False  erm û ill pick you up at about 645pm thatll g...\n",
       "4049  False                   ok ok take care i can understand\n",
       "4320  False  k jason says hes gonna be around so ill be up ...\n",
       "3660  False                 well then you have a great weekend\n",
       "...     ...                                                ...\n",
       "3045  False                     so hows the weather over there\n",
       "51    False  a gram usually runs like  ltgt  a half eighth ...\n",
       "4170  False  pls whats the full name of jokes school cos fe...\n",
       "988   False  yun ahthe ubi one say if ì wan call by tomorro...\n",
       "3490  False                                                 ok\n",
       "\n",
       "[3900 rows x 2 columns]"
      ]
     },
     "execution_count": 8,
     "metadata": {},
     "output_type": "execute_result"
    }
   ],
   "source": [
    "train_spam_df"
   ]
  },
  {
   "cell_type": "code",
   "execution_count": 9,
   "metadata": {},
   "outputs": [
    {
     "name": "stdout",
     "output_type": "stream",
     "text": [
      "0.13256410256410256\n"
     ]
    }
   ],
   "source": [
    "FRAC_SPAM_TEXTS = train_spam_df.spam.mean()\n",
    "print(FRAC_SPAM_TEXTS)"
   ]
  },
  {
   "cell_type": "markdown",
   "metadata": {},
   "source": [
    "# Create Spam Bag of Words and Non-Spam Bag of Words"
   ]
  },
  {
   "cell_type": "code",
   "execution_count": 10,
   "metadata": {},
   "outputs": [
    {
     "data": {
      "text/plain": [
       "12405"
      ]
     },
     "execution_count": 10,
     "metadata": {},
     "output_type": "execute_result"
    }
   ],
   "source": [
    "spam_text = ' '.join(train_spam_df[train_spam_df.spam == True].text).split(' ')\n",
    "len(spam_text)"
   ]
  },
  {
   "cell_type": "code",
   "execution_count": 11,
   "metadata": {},
   "outputs": [
    {
     "data": {
      "text/plain": [
       "855"
      ]
     },
     "execution_count": 11,
     "metadata": {},
     "output_type": "execute_result"
    }
   ],
   "source": [
    "#get all words from spam and non-spam datasets\n",
    "train_spam_words = ' '.join(train_spam_df[train_spam_df.spam == True].text).split(' ')\n",
    "train_non_spam_words = ' '.join(train_spam_df[train_spam_df.spam == False].text).split(' ')\n",
    "\n",
    "common_words = set(train_spam_words).intersection(set(train_non_spam_words))\n",
    "len(common_words)"
   ]
  },
  {
   "cell_type": "code",
   "execution_count": 12,
   "metadata": {},
   "outputs": [],
   "source": [
    "train_spam_bow = dict()\n",
    "for w in common_words:\n",
    "    train_spam_bow[w] = train_spam_words.count(w) / len(train_spam_words)"
   ]
  },
  {
   "cell_type": "code",
   "execution_count": 13,
   "metadata": {},
   "outputs": [],
   "source": [
    "train_non_spam_bow = dict()\n",
    "for w in common_words:\n",
    "    train_non_spam_bow[w] = train_non_spam_words.count(w) / len(train_non_spam_words)"
   ]
  },
  {
   "cell_type": "markdown",
   "metadata": {},
   "source": [
    "# Predict on Test Set"
   ]
  },
  {
   "cell_type": "markdown",
   "metadata": {},
   "source": [
    "### $ P(\\text{SPAM} | \\text{\"urgent please call this number\"}) $\n",
    "### $\\propto P(\\text{\"urgent please call this number\"} | \\text{SPAM}) \\times P(\\text{SPAM}) $\n",
    "### $= P(\\text{\"urgent\"} | \\text{SPAM}) \\times P(\\text{\"please\"} | \\text{SPAM}) \\times \\dots \\times P(\\text{SPAM})$"
   ]
  },
  {
   "cell_type": "markdown",
   "metadata": {},
   "source": [
    "### Due to numerical issues, equivalently  compute:\n",
    "\n",
    "### $log(P(\\text{\"urgent\"} | \\text{SPAM}) \\times P(\\text{\"please\"} | \\text{SPAM}) \\times \\dots \\times P(\\text{SPAM}))$\n",
    "### $ = log(P(\\text{\"urgent\"} | \\text{SPAM})) + log(P(\\text{\"please\"} | \\text{SPAM})) + \\dots + log(P(\\text{SPAM}))$"
   ]
  },
  {
   "cell_type": "code",
   "execution_count": 14,
   "metadata": {},
   "outputs": [],
   "source": [
    "def predict_text(t, verbose=False):\n",
    "    #if some word doesnt appear in either spam or non-spam BOW, disregard it\n",
    "    valid_words = [w for w in t if w in train_spam_bow]\n",
    "    \n",
    "    #get the probabilities of each valid word showing up in spam and non-spam BOW\n",
    "    spam_probs = [train_spam_bow[w] for w in valid_words]\n",
    "    non_spam_probs = [train_non_spam_bow[w] for w in valid_words]\n",
    "    \n",
    "    #print probs if requested\n",
    "    if verbose:\n",
    "        data_df = pd.DataFrame()\n",
    "        data_df['word'] = valid_words\n",
    "        data_df['spam_prob'] = spam_probs\n",
    "        data_df['non_spam_prob'] = non_spam_probs\n",
    "        data_df['ratio'] = [s/n if n > 0 else np.inf for s,n in zip(spam_probs, non_spam_probs)]\n",
    "        print(data_df)\n",
    "     \n",
    "    #calculate spam score as sum of logs for all probabilities\n",
    "    spam_score = sum([np.log(p) for p in spam_probs]) + np.log(FRAC_SPAM_TEXTS)\n",
    "    \n",
    "    #calculate non-spam score as sum of logs for all probabilities\n",
    "    non_spam_score = sum([np.log(p) for p in non_spam_probs]) + np.log(1-FRAC_SPAM_TEXTS)\n",
    "    \n",
    "    #if verbose, report the two scores\n",
    "    if verbose:\n",
    "        print('Spam Score: %s'%spam_score)\n",
    "        print('Non-Spam Score: %s'%non_spam_score)\n",
    "   \n",
    "    #if spam score is higher, mark this as spam\n",
    "    return (spam_score >= non_spam_score)"
   ]
  },
  {
   "cell_type": "code",
   "execution_count": 15,
   "metadata": {},
   "outputs": [
    {
     "name": "stdout",
     "output_type": "stream",
     "text": [
      "     word  spam_prob  non_spam_prob       ratio\n",
      "0  urgent   0.002821       0.000020  138.645707\n",
      "1    call   0.018944       0.003419    5.541112\n",
      "2    this   0.005079       0.003460    1.468013\n",
      "3  number   0.001370       0.000895    1.530505\n",
      "Spam Score: -23.732826896031593\n",
      "Non-Spam Score: -29.307976197265926\n"
     ]
    },
    {
     "data": {
      "text/plain": [
       "True"
      ]
     },
     "execution_count": 15,
     "metadata": {},
     "output_type": "execute_result"
    }
   ],
   "source": [
    "predict_text('urgent call this number'.split(), verbose=True)"
   ]
  },
  {
   "cell_type": "code",
   "execution_count": 16,
   "metadata": {},
   "outputs": [
    {
     "name": "stdout",
     "output_type": "stream",
     "text": [
      "      word  spam_prob  non_spam_prob     ratio\n",
      "0      hey   0.000403       0.001465  0.275091\n",
      "1       do   0.001612       0.005454  0.295620\n",
      "2      you   0.015558       0.026842  0.579630\n",
      "3     want   0.002096       0.002442  0.858283\n",
      "4       to   0.038452       0.022711  1.693139\n",
      "5       go   0.001612       0.003867  0.416980\n",
      "6        a   0.020476       0.015181  1.348756\n",
      "7    movie   0.000081       0.000305  0.264087\n",
      "8  tonight   0.000161       0.000875  0.184247\n",
      "Spam Score: -58.33369589780714\n",
      "Non-Spam Score: -50.175791350886016\n"
     ]
    },
    {
     "data": {
      "text/plain": [
       "False"
      ]
     },
     "execution_count": 16,
     "metadata": {},
     "output_type": "execute_result"
    }
   ],
   "source": [
    "predict_text('hey do you want to go a movie tonight'.split(), verbose=True)"
   ]
  },
  {
   "cell_type": "code",
   "execution_count": 17,
   "metadata": {},
   "outputs": [
    {
     "name": "stdout",
     "output_type": "stream",
     "text": [
      "        word  spam_prob  non_spam_prob      ratio\n",
      "0      offer   0.001290       0.000102  12.676179\n",
      "1        for   0.011366       0.007468   1.521919\n",
      "2  unlimited   0.000403       0.000061   6.602177\n",
      "3      money   0.000161       0.000794   0.203144\n",
      "4       call   0.018944       0.003419   5.541112\n",
      "5        now   0.011205       0.004009   2.795033\n",
      "Spam Score: -38.157825181477875\n",
      "Non-Spam Score: -42.27264413636038\n"
     ]
    },
    {
     "data": {
      "text/plain": [
       "True"
      ]
     },
     "execution_count": 17,
     "metadata": {},
     "output_type": "execute_result"
    }
   ],
   "source": [
    "predict_text('offer for unlimited money call now'.split(), verbose=True)"
   ]
  },
  {
   "cell_type": "code",
   "execution_count": 18,
   "metadata": {},
   "outputs": [
    {
     "name": "stdout",
     "output_type": "stream",
     "text": [
      "  word  spam_prob  non_spam_prob     ratio\n",
      "0  are   0.003950       0.006044  0.653549\n",
      "1  you   0.015558       0.026842  0.579630\n",
      "2   at   0.001532       0.005596  0.273690\n",
      "3  yet   0.000161       0.000773  0.208490\n",
      "Spam Score: -26.93201189537102\n",
      "Non-Spam Score: -21.21920969872474\n"
     ]
    },
    {
     "data": {
      "text/plain": [
       "False"
      ]
     },
     "execution_count": 18,
     "metadata": {},
     "output_type": "execute_result"
    }
   ],
   "source": [
    "predict_text('are you at class yet'.split(), verbose=True)"
   ]
  },
  {
   "cell_type": "code",
   "execution_count": 19,
   "metadata": {},
   "outputs": [
    {
     "data": {
      "text/html": [
       "<div>\n",
       "<style scoped>\n",
       "    .dataframe tbody tr th:only-of-type {\n",
       "        vertical-align: middle;\n",
       "    }\n",
       "\n",
       "    .dataframe tbody tr th {\n",
       "        vertical-align: top;\n",
       "    }\n",
       "\n",
       "    .dataframe thead th {\n",
       "        text-align: right;\n",
       "    }\n",
       "</style>\n",
       "<table border=\"1\" class=\"dataframe\">\n",
       "  <thead>\n",
       "    <tr style=\"text-align: right;\">\n",
       "      <th></th>\n",
       "      <th>spam</th>\n",
       "      <th>text</th>\n",
       "    </tr>\n",
       "  </thead>\n",
       "  <tbody>\n",
       "    <tr>\n",
       "      <th>4509</th>\n",
       "      <td>False</td>\n",
       "      <td>this weekend is fine an excuse not to do too m...</td>\n",
       "    </tr>\n",
       "    <tr>\n",
       "      <th>798</th>\n",
       "      <td>False</td>\n",
       "      <td>ok i msg u b4 i leave my house</td>\n",
       "    </tr>\n",
       "    <tr>\n",
       "      <th>122</th>\n",
       "      <td>True</td>\n",
       "      <td>todays voda numbers ending 7548 are selected t...</td>\n",
       "    </tr>\n",
       "    <tr>\n",
       "      <th>5563</th>\n",
       "      <td>False</td>\n",
       "      <td>ard 6 like dat lor</td>\n",
       "    </tr>\n",
       "    <tr>\n",
       "      <th>4563</th>\n",
       "      <td>False</td>\n",
       "      <td>tell me again what your address is</td>\n",
       "    </tr>\n",
       "    <tr>\n",
       "      <th>...</th>\n",
       "      <td>...</td>\n",
       "      <td>...</td>\n",
       "    </tr>\n",
       "    <tr>\n",
       "      <th>2434</th>\n",
       "      <td>False</td>\n",
       "      <td>uncle boye i need movies oh guide me plus you ...</td>\n",
       "    </tr>\n",
       "    <tr>\n",
       "      <th>3356</th>\n",
       "      <td>False</td>\n",
       "      <td>brainless baby dolld vehicle sariyag drive mad...</td>\n",
       "    </tr>\n",
       "    <tr>\n",
       "      <th>1564</th>\n",
       "      <td>False</td>\n",
       "      <td>tmrw im finishing 9 doors</td>\n",
       "    </tr>\n",
       "    <tr>\n",
       "      <th>3974</th>\n",
       "      <td>False</td>\n",
       "      <td>do u think that any girl will propose u today ...</td>\n",
       "    </tr>\n",
       "    <tr>\n",
       "      <th>4471</th>\n",
       "      <td>True</td>\n",
       "      <td>3 you have received your mobile content enjoy</td>\n",
       "    </tr>\n",
       "  </tbody>\n",
       "</table>\n",
       "<p>1672 rows × 2 columns</p>\n",
       "</div>"
      ],
      "text/plain": [
       "       spam                                               text\n",
       "4509  False  this weekend is fine an excuse not to do too m...\n",
       "798   False                     ok i msg u b4 i leave my house\n",
       "122    True  todays voda numbers ending 7548 are selected t...\n",
       "5563  False                                 ard 6 like dat lor\n",
       "4563  False                 tell me again what your address is\n",
       "...     ...                                                ...\n",
       "2434  False  uncle boye i need movies oh guide me plus you ...\n",
       "3356  False  brainless baby dolld vehicle sariyag drive mad...\n",
       "1564  False                          tmrw im finishing 9 doors\n",
       "3974  False  do u think that any girl will propose u today ...\n",
       "4471   True      3 you have received your mobile content enjoy\n",
       "\n",
       "[1672 rows x 2 columns]"
      ]
     },
     "execution_count": 19,
     "metadata": {},
     "output_type": "execute_result"
    }
   ],
   "source": [
    "test_spam_df"
   ]
  },
  {
   "cell_type": "code",
   "execution_count": 20,
   "metadata": {},
   "outputs": [
    {
     "data": {
      "text/plain": [
       "4509    False\n",
       "798     False\n",
       "122      True\n",
       "5563    False\n",
       "4563    False\n",
       "        ...  \n",
       "2434    False\n",
       "3356    False\n",
       "1564    False\n",
       "3974    False\n",
       "4471     True\n",
       "Name: text, Length: 1672, dtype: bool"
      ]
     },
     "execution_count": 20,
     "metadata": {},
     "output_type": "execute_result"
    }
   ],
   "source": [
    "predictions = test_spam_df.text.apply(lambda t: predict_text(t.split()))\n",
    "predictions"
   ]
  },
  {
   "cell_type": "markdown",
   "metadata": {},
   "source": [
    "# Metric 1: Fraction Spam Correctly Detected (True positive rate / Recall) "
   ]
  },
  {
   "cell_type": "code",
   "execution_count": 21,
   "metadata": {},
   "outputs": [
    {
     "data": {
      "text/plain": [
       "211"
      ]
     },
     "execution_count": 21,
     "metadata": {},
     "output_type": "execute_result"
    }
   ],
   "source": [
    "np.sum((predictions == True) & (test_spam_df.spam == True))"
   ]
  },
  {
   "cell_type": "code",
   "execution_count": 22,
   "metadata": {},
   "outputs": [
    {
     "data": {
      "text/plain": [
       "230"
      ]
     },
     "execution_count": 22,
     "metadata": {},
     "output_type": "execute_result"
    }
   ],
   "source": [
    " np.sum(test_spam_df.spam == True)"
   ]
  },
  {
   "cell_type": "code",
   "execution_count": 23,
   "metadata": {},
   "outputs": [
    {
     "name": "stdout",
     "output_type": "stream",
     "text": [
      "Fraction Spam Correctly Detected: 0.9173913043478261\n"
     ]
    }
   ],
   "source": [
    "frac_spam_messages_correctly_detected = np.sum((predictions == True) & (test_spam_df.spam == True)) / np.sum(test_spam_df.spam == True)\n",
    "print('Fraction Spam Correctly Detected: %s'%frac_spam_messages_correctly_detected)"
   ]
  },
  {
   "cell_type": "markdown",
   "metadata": {},
   "source": [
    "### Alternative code to calculate Fraction Spam Correctly Detected"
   ]
  },
  {
   "cell_type": "code",
   "execution_count": 24,
   "metadata": {},
   "outputs": [
    {
     "data": {
      "text/plain": [
       "4509    False\n",
       "798     False\n",
       "122      True\n",
       "5563    False\n",
       "4563    False\n",
       "        ...  \n",
       "2434    False\n",
       "3356    False\n",
       "1564    False\n",
       "3974    False\n",
       "4471     True\n",
       "Name: text, Length: 1672, dtype: bool"
      ]
     },
     "execution_count": 24,
     "metadata": {},
     "output_type": "execute_result"
    }
   ],
   "source": [
    "pred_true = (predictions == True)\n",
    "pred_true"
   ]
  },
  {
   "cell_type": "code",
   "execution_count": 25,
   "metadata": {},
   "outputs": [
    {
     "data": {
      "text/plain": [
       "4509    False\n",
       "798     False\n",
       "122      True\n",
       "5563    False\n",
       "4563    False\n",
       "        ...  \n",
       "2434    False\n",
       "3356    False\n",
       "1564    False\n",
       "3974    False\n",
       "4471     True\n",
       "Length: 1672, dtype: bool"
      ]
     },
     "execution_count": 25,
     "metadata": {},
     "output_type": "execute_result"
    }
   ],
   "source": [
    "test_spam_true = (test_spam_df.spam == True)\n",
    "test_spam_true\n",
    "combined_pred_test = np.logical_and(pred_true, test_spam_true)\n",
    "combined_pred_test"
   ]
  },
  {
   "cell_type": "code",
   "execution_count": 26,
   "metadata": {},
   "outputs": [
    {
     "data": {
      "text/plain": [
       "211"
      ]
     },
     "execution_count": 26,
     "metadata": {},
     "output_type": "execute_result"
    }
   ],
   "source": [
    "np.sum(combined_pred_test)"
   ]
  },
  {
   "cell_type": "code",
   "execution_count": 27,
   "metadata": {},
   "outputs": [
    {
     "name": "stdout",
     "output_type": "stream",
     "text": [
      "Fraction Spam Correctly Detected: 0.9173913043478261\n"
     ]
    }
   ],
   "source": [
    "frac_spam_messages_correctly_detected_2 = np.sum(np.logical_and(predictions, test_spam_df.spam)) / np.sum(test_spam_df.spam == True)\n",
    "print('Fraction Spam Correctly Detected: %s'%frac_spam_messages_correctly_detected_2)"
   ]
  },
  {
   "cell_type": "markdown",
   "metadata": {},
   "source": [
    "# Metric 2: Fraction of valid messages sent to spam (False positive rate)"
   ]
  },
  {
   "cell_type": "code",
   "execution_count": 28,
   "metadata": {},
   "outputs": [
    {
     "name": "stdout",
     "output_type": "stream",
     "text": [
      "Fraction Valid Messages Sent to Spam: 0.027045769764216365\n"
     ]
    }
   ],
   "source": [
    "frac_valid_sent_to_spam = np.sum((predictions == True) & (test_spam_df.spam == False)) / np.sum(test_spam_df.spam == False)\n",
    "print('Fraction Valid Messages Sent to Spam: %s'%frac_valid_sent_to_spam)"
   ]
  },
  {
   "cell_type": "code",
   "execution_count": null,
   "metadata": {},
   "outputs": [],
   "source": []
  }
 ],
 "metadata": {
  "kernelspec": {
   "display_name": "Python 3 (ipykernel)",
   "language": "python",
   "name": "python3"
  },
  "language_info": {
   "codemirror_mode": {
    "name": "ipython",
    "version": 3
   },
   "file_extension": ".py",
   "mimetype": "text/x-python",
   "name": "python",
   "nbconvert_exporter": "python",
   "pygments_lexer": "ipython3",
   "version": "3.8.12"
  },
  "toc": {
   "base_numbering": 1,
   "nav_menu": {},
   "number_sections": true,
   "sideBar": true,
   "skip_h1_title": false,
   "title_cell": "Table of Contents",
   "title_sidebar": "Contents",
   "toc_cell": false,
   "toc_position": {},
   "toc_section_display": true,
   "toc_window_display": false
  }
 },
 "nbformat": 4,
 "nbformat_minor": 4
}
